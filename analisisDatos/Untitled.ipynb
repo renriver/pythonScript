{
 "cells": [
  {
   "cell_type": "code",
   "execution_count": 6,
   "metadata": {},
   "outputs": [
    {
     "name": "stdout",
     "output_type": "stream",
     "text": [
      "               Estación Provincia Temperatura máxima (ºC)  \\\n",
      "0       Estaca de Bares  A Coruña            11.0 (20:20)   \n",
      "1             As Pontes  A Coruña            13.9 (14:50)   \n",
      "2              A Coruña  A Coruña            13.9 (14:50)   \n",
      "3   A Coruña Aeropuerto  A Coruña            14.2 (14:50)   \n",
      "4  Carballo, Depuradora  A Coruña            16.0 (15:50)   \n",
      "\n",
      "  Temperatura mínima (ºC)  Temperatura media (ºC) Racha (km/h)  \\\n",
      "0             8.7 (04:10)                     9.8   61 (16:30)   \n",
      "1            -0.8 (07:30)                     6.5          NaN   \n",
      "2             5.1 (07:10)                     9.5   15 (02:20)   \n",
      "3             0.0 (09:30)                     7.1   24 (23:10)   \n",
      "4            -2.8 (08:40)                     6.6          NaN   \n",
      "\n",
      "  Velocidad máxima (km/h)  Precipitación 00-24h (mm)  \\\n",
      "0              39 (18:40)                        0.0   \n",
      "1                     NaN                        0.0   \n",
      "2              10 (02:20)                        0.0   \n",
      "3              15 (04:00)                        0.0   \n",
      "4                     NaN                        0.0   \n",
      "\n",
      "   Precipitación 00-06h (mm)  Precipitación 06-12h (mm)  \\\n",
      "0                        0.0                        0.0   \n",
      "1                        0.0                        0.0   \n",
      "2                        0.0                        0.0   \n",
      "3                        0.0                        0.0   \n",
      "4                        0.0                        0.0   \n",
      "\n",
      "   Precipitación 12-18h (mm)  Precipitación 18-24h (mm)               origen  \n",
      "0                        0.0                        0.0  Aemet2019-01-01.xls  \n",
      "1                        0.0                        0.0  Aemet2019-01-01.xls  \n",
      "2                        0.0                        0.0  Aemet2019-01-01.xls  \n",
      "3                        0.0                        0.0  Aemet2019-01-01.xls  \n",
      "4                        0.0                        0.0  Aemet2019-01-01.xls  \n"
     ]
    }
   ],
   "source": [
    "import pandas as pd\n",
    "import glob\n",
    "import numpy as np\n",
    "all_files = glob.glob(\"Aemet2019-*.xls\")\n",
    "\n",
    "file_list = []\n",
    "for f in all_files:\n",
    "    data = pd.read_excel(f,skiprows=4)\n",
    "    data['origen'] = f # nueva columna conteniendo el nombre del fichero leido\n",
    "    file_list.append(data)\n",
    "    all_files \n",
    "df = pd.concat(file_list)\n",
    "print(df.head())"
   ]
  },
  {
   "cell_type": "code",
   "execution_count": null,
   "metadata": {},
   "outputs": [],
   "source": [
    "print()"
   ]
  },
  {
   "cell_type": "code",
   "execution_count": null,
   "metadata": {},
   "outputs": [],
   "source": []
  },
  {
   "cell_type": "code",
   "execution_count": null,
   "metadata": {},
   "outputs": [],
   "source": []
  }
 ],
 "metadata": {
  "kernelspec": {
   "display_name": "Python 3",
   "language": "python",
   "name": "python3"
  },
  "language_info": {
   "codemirror_mode": {
    "name": "ipython",
    "version": 3
   },
   "file_extension": ".py",
   "mimetype": "text/x-python",
   "name": "python",
   "nbconvert_exporter": "python",
   "pygments_lexer": "ipython3",
   "version": "3.6.5"
  }
 },
 "nbformat": 4,
 "nbformat_minor": 2
}
